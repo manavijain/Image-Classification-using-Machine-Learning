{
 "cells": [
  {
   "cell_type": "code",
   "execution_count": 1,
   "id": "bf7a7290-5609-4a79-907e-6ebfa448a501",
   "metadata": {},
   "outputs": [],
   "source": [
    "from tensorflow.keras.utils import to_categorical\n",
    "from tensorflow.keras.models import Sequential\n",
    "from tensorflow.keras.layers import Conv2D, MaxPooling2D, Flatten, Dense, Dropout"
   ]
  },
  {
   "cell_type": "code",
   "execution_count": 3,
   "id": "8b12ab84-13ca-43f0-9323-d021f69e9bc8",
   "metadata": {},
   "outputs": [],
   "source": [
    "from keras.datasets import cifar10\n",
    "(x_train, y_train), (x_test, y_test) = cifar10.load_data()"
   ]
  },
  {
   "cell_type": "code",
   "execution_count": 4,
   "id": "02d35ae5-3453-4873-b802-e6cb197c020f",
   "metadata": {},
   "outputs": [],
   "source": [
    "x_train = x_train.astype('float32') / 255.0\n",
    "x_test = x_test.astype('float32') / 255.0"
   ]
  },
  {
   "cell_type": "code",
   "execution_count": 5,
   "id": "51910738-0663-4c33-9fc3-48cc1fc4d265",
   "metadata": {},
   "outputs": [],
   "source": [
    "y_train = to_categorical(y_train, 10)\n",
    "y_test = to_categorical(y_test, 10)"
   ]
  },
  {
   "cell_type": "code",
   "execution_count": 9,
   "id": "c89161a2-fc1d-4bc6-8bb9-1369840af453",
   "metadata": {},
   "outputs": [],
   "source": [
    "from tensorflow.keras.models import Sequential\n",
    "from tensorflow.keras.layers import Conv2D, MaxPooling2D, Flatten, Dense, Dropout\n",
    "\n",
    "model = Sequential([\n",
    "    Conv2D(32, kernel_size=(3, 3), activation='relu', input_shape=(32, 32, 3)),\n",
    "    MaxPooling2D(pool_size=(2, 2)),\n",
    "    Conv2D(64, kernel_size=(3, 3), activation='relu'),\n",
    "    MaxPooling2D(pool_size=(2, 2)),\n",
    "    Flatten(),\n",
    "    Dense(512, activation='relu'),\n",
    "    Dropout(0.5),\n",
    "    Dense(10, activation='softmax')\n",
    "])\n"
   ]
  },
  {
   "cell_type": "code",
   "execution_count": 10,
   "id": "af120c52-af58-4189-b24f-7cf288dacc01",
   "metadata": {},
   "outputs": [],
   "source": [
    "model.compile(loss='categorical_crossentropy',optimizer='adam',metrics=['accuracy'])"
   ]
  },
  {
   "cell_type": "code",
   "execution_count": 11,
   "id": "01fd0dda-94db-47ee-92a6-f2ea56ee5a2b",
   "metadata": {},
   "outputs": [
    {
     "name": "stdout",
     "output_type": "stream",
     "text": [
      "Epoch 1/10\n",
      "782/782 [==============================] - 31s 39ms/step - loss: 1.5071 - accuracy: 0.4555 - val_loss: 1.2604 - val_accuracy: 0.5626\n",
      "Epoch 2/10\n",
      "782/782 [==============================] - 28s 35ms/step - loss: 1.1471 - accuracy: 0.5953 - val_loss: 1.0142 - val_accuracy: 0.6509\n",
      "Epoch 3/10\n",
      "782/782 [==============================] - 25s 33ms/step - loss: 1.0045 - accuracy: 0.6475 - val_loss: 0.9378 - val_accuracy: 0.6722\n",
      "Epoch 4/10\n",
      "782/782 [==============================] - 26s 33ms/step - loss: 0.9127 - accuracy: 0.6808 - val_loss: 0.8867 - val_accuracy: 0.6921\n",
      "Epoch 5/10\n",
      "782/782 [==============================] - 27s 34ms/step - loss: 0.8295 - accuracy: 0.7098 - val_loss: 0.8579 - val_accuracy: 0.6983\n",
      "Epoch 6/10\n",
      "782/782 [==============================] - 25s 32ms/step - loss: 0.7685 - accuracy: 0.7294 - val_loss: 0.8556 - val_accuracy: 0.7052\n",
      "Epoch 7/10\n",
      "782/782 [==============================] - 25s 32ms/step - loss: 0.7107 - accuracy: 0.7504 - val_loss: 0.8177 - val_accuracy: 0.7219\n",
      "Epoch 8/10\n",
      "782/782 [==============================] - 25s 32ms/step - loss: 0.6503 - accuracy: 0.7708 - val_loss: 0.7979 - val_accuracy: 0.7226\n",
      "Epoch 9/10\n",
      "782/782 [==============================] - 24s 31ms/step - loss: 0.6008 - accuracy: 0.7880 - val_loss: 0.8033 - val_accuracy: 0.7344\n",
      "Epoch 10/10\n",
      "782/782 [==============================] - 25s 32ms/step - loss: 0.5622 - accuracy: 0.8022 - val_loss: 0.7936 - val_accuracy: 0.7324\n"
     ]
    },
    {
     "data": {
      "text/plain": [
       "<keras.callbacks.History at 0x22bbed949d0>"
      ]
     },
     "execution_count": 11,
     "metadata": {},
     "output_type": "execute_result"
    }
   ],
   "source": [
    "model.fit(x_train, y_train, batch_size=64, epochs=10, validation_data=(x_test, y_test))"
   ]
  },
  {
   "cell_type": "code",
   "execution_count": 12,
   "id": "47a376f9-ee46-4df6-96ad-2ae78d285142",
   "metadata": {},
   "outputs": [],
   "source": [
    "model.save('cifar10_model.h5')"
   ]
  },
  {
   "cell_type": "code",
   "execution_count": null,
   "id": "d10744fe-2739-471c-ad18-c80d9d89186d",
   "metadata": {},
   "outputs": [],
   "source": []
  }
 ],
 "metadata": {
  "kernelspec": {
   "display_name": "Python 3 (ipykernel)",
   "language": "python",
   "name": "python3"
  },
  "language_info": {
   "codemirror_mode": {
    "name": "ipython",
    "version": 3
   },
   "file_extension": ".py",
   "mimetype": "text/x-python",
   "name": "python",
   "nbconvert_exporter": "python",
   "pygments_lexer": "ipython3",
   "version": "3.9.21"
  }
 },
 "nbformat": 4,
 "nbformat_minor": 5
}
